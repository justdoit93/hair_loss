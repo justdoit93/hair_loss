{
 "cells": [
  {
   "attachments": {},
   "cell_type": "markdown",
   "metadata": {},
   "source": [
    "### Custom LeNet Model\n",
    "- Scalp Image Classification \n",
    "- Hair loss symptom 0,1,2,3"
   ]
  },
  {
   "attachments": {},
   "cell_type": "markdown",
   "metadata": {},
   "source": [
    "- 파라미터들과 모델 깊이를 변형하며 학습해본 결과, 주어진 데이터의 양이 적어서 epoch을 늘리면 과적합이 쉽게 일어났다.\n",
    "- 모델 깊이가 얕으면 최적의 성능을 내기가 어려웠다.\n",
    "- 모델 깊이를 깊게 하고, 데이터 증강을 하고 한 증강 세트 당 2~3번 이내로 Train하는 과정을 반복하는 것이 가장 좋은 성능을 보일 것이라고 생각하였다."
   ]
  },
  {
   "attachments": {},
   "cell_type": "markdown",
   "metadata": {},
   "source": [
    "---"
   ]
  },
  {
   "attachments": {},
   "cell_type": "markdown",
   "metadata": {},
   "source": [
    "4개 층의 모델로 증강/훈련 반복 진행"
   ]
  },
  {
   "cell_type": "code",
   "execution_count": 22,
   "metadata": {},
   "outputs": [],
   "source": [
    "import torch\n",
    "import torch.nn as nn\n",
    "import torch.optim as optim\n",
    "from torch.utils.data import DataLoader\n",
    "from torchvision import datasets, transforms\n",
    "import matplotlib.pyplot as plt\n",
    "%matplotlib inline\n",
    "\n",
    "# GPU가 사용 가능한 경우 사용\n",
    "device = torch.device(\"cuda\" if torch.cuda.is_available() else \"cpu\")\n",
    "\n",
    "def get_data():\n",
    "    # 데이터 전처리 및 로드\n",
    "    transform = transforms.Compose([\n",
    "        transforms.Resize((300, 300)),  # 이미지 크기 조정\n",
    "        transforms.ToTensor(),\n",
    "        transforms.Normalize(mean=[0.485, 0.456, 0.406], std=[0.229, 0.224, 0.225])\n",
    "\n",
    "    ])\n",
    "    train_dataset = datasets.ImageFolder('./Training/hairloss', transform=transform)\n",
    "    test_dataset = datasets.ImageFolder('./Validation/hairloss', transform=transform)\n",
    "\n",
    "    train_loader = DataLoader(train_dataset, batch_size=32, shuffle=True)\n",
    "    test_loader = DataLoader(test_dataset, batch_size=32, shuffle=False)\n",
    "    return train_loader, test_loader\n",
    "\n",
    "# CNN 모델 정의\n",
    "class CNN(nn.Module):\n",
    "    def __init__(self):\n",
    "        super(CNN, self).__init__()\n",
    "        self.conv1 = nn.Conv2d(3, 16, kernel_size=3, stride=1, padding=1)\n",
    "        self.relu = nn.ReLU()\n",
    "        self.maxpool = nn.MaxPool2d(kernel_size=2, stride=2)\n",
    "        self.conv2 = nn.Conv2d(16, 32, kernel_size=3, stride=1, padding=1)\n",
    "        self.conv3 = nn.Conv2d(32, 64, kernel_size=3, stride=1, padding=1)\n",
    "        self.conv4 = nn.Conv2d(64, 128, kernel_size=3, stride=1, padding=1)\n",
    "        self.fc = nn.Linear(128 * 18 * 18, 4)  # 분류할 클래스 수에 맞게 설정\n",
    "\n",
    "    def forward(self, x):\n",
    "        x = self.conv1(x)\n",
    "        x = self.relu(x)\n",
    "        x = self.maxpool(x)\n",
    "        x = self.conv2(x)\n",
    "        x = self.relu(x)\n",
    "        x = self.maxpool(x)\n",
    "        x = self.conv3(x)\n",
    "        x = self.relu(x)\n",
    "        x = self.maxpool(x)\n",
    "        x = self.conv4(x)\n",
    "        x = self.relu(x)\n",
    "        x = self.maxpool(x)\n",
    "        x = x.view(x.size(0), -1)\n",
    "        x = self.fc(x)\n",
    "        return x\n",
    "\n",
    "# 모델 초기화\n",
    "model = CNN().to(device)\n",
    "\n",
    "# 손실 함수와 최적화 알고리즘 정의\n",
    "criterion = nn.CrossEntropyLoss()\n",
    "optimizer = optim.Adam(model.parameters(), lr=0.0001)\n",
    "\n",
    "# 학습 함수\n",
    "def train(model, criterion, optimizer, train_loader):\n",
    "    model.train()\n",
    "    running_loss = 0.0\n",
    "    correct = 0\n",
    "    total = 0\n",
    "\n",
    "    for images, labels in train_loader:\n",
    "        images, labels = images.to(device), labels.to(device)\n",
    "        optimizer.zero_grad()\n",
    "        outputs = model(images)\n",
    "        loss = criterion(outputs, labels)\n",
    "        loss.backward()\n",
    "        optimizer.step()\n",
    "        running_loss += loss.item() * images.size(0)\n",
    "\n",
    "        _, predicted = torch.max(outputs.data, 1)\n",
    "        total += labels.size(0)\n",
    "        correct += (predicted == labels).sum().item()\n",
    "\n",
    "    train_loss = running_loss / len(train_loader.dataset)\n",
    "    print('train_accuracy: ', 100 * correct / total)\n",
    "\n",
    "    return train_loss\n",
    "\n",
    "\n",
    "# 테스트 함수\n",
    "def test(model, criterion, test_loader):\n",
    "    model.eval()\n",
    "    correct = 0\n",
    "    total = 0\n",
    "    with torch.no_grad():\n",
    "        for images, labels in test_loader:\n",
    "            images, labels = images.to(device), labels.to(device)\n",
    "            outputs = model(images)\n",
    "            _, predicted = torch.max(outputs.data, 1)\n",
    "            total += labels.size(0)\n",
    "            correct += (predicted == labels).sum().item()\n",
    "    test_accuracy = 100 * correct / total\n",
    "    return test_accuracy\n",
    "\n",
    "# 손실 그래프 그리기\n",
    "def draw_loss(train_losses):\n",
    "    plt.plot(train_losses, label='Training Loss')\n",
    "    plt.xlabel('Epoch')\n",
    "    plt.ylabel('Loss')\n",
    "    plt.legend()\n",
    "    plt.show()"
   ]
  },
  {
   "cell_type": "code",
   "execution_count": 10,
   "metadata": {},
   "outputs": [
    {
     "name": "stdout",
     "output_type": "stream",
     "text": [
      "train_accuracy:  73.5753254469832\n",
      "Epoch 1/5, Train Loss: 0.6851\n",
      "Test Accuracy: 74.11%\n",
      "train_accuracy:  74.68805704099822\n",
      "Epoch 2/5, Train Loss: 0.6382\n",
      "Test Accuracy: 73.54%\n"
     ]
    }
   ],
   "source": [
    "train_loader, test_loader = get_data()\n",
    "train_losses = []\n",
    "for epoch in range(2):\n",
    "    train_loss = train(model, criterion, optimizer, train_loader)\n",
    "    test_accuracy = test(model, criterion, test_loader)\n",
    "    train_losses.append(train_loss)\n",
    "    print(f\"Epoch {epoch+1}/{5}, Train Loss: {train_loss:.4f}\")\n",
    "    print(f\"Test Accuracy: {test_accuracy:.2f}%\")"
   ]
  },
  {
   "cell_type": "code",
   "execution_count": 28,
   "metadata": {},
   "outputs": [],
   "source": [
    "def augdata():\n",
    "    transform = transforms.Compose([\n",
    "        transforms.Resize((300, 300)),  # 이미지 크기 조정\n",
    "        transforms.RandomHorizontalFlip(),  # 무작위로 좌우 반전\n",
    "        transforms.RandomRotation(10),  # 무작위로 회전\n",
    "        transforms.ColorJitter(brightness=0.2, contrast=0.2, saturation=0.2, hue=0.1),  # 색상 변형\n",
    "        transforms.ToTensor(),\n",
    "        transforms.Normalize(mean=[0.485, 0.456, 0.406], std=[0.229, 0.224, 0.225])\n",
    "    ])\n",
    "\n",
    "    aug_train_dataset = datasets.ImageFolder('./Training/hairloss', transform=transform)\n",
    "    aug_train_loader = DataLoader(aug_train_dataset, batch_size=32, shuffle=True)\n",
    "    return aug_train_loader"
   ]
  },
  {
   "cell_type": "code",
   "execution_count": 30,
   "metadata": {},
   "outputs": [
    {
     "name": "stdout",
     "output_type": "stream",
     "text": [
      "train_accuracy:  73.58072705666288\n",
      "Epoch 1/5, Train Loss: 0.6774\n",
      "Test Accuracy: 73.83%\n",
      "train_accuracy:  74.32074758277967\n",
      "Epoch 2/5, Train Loss: 0.6553\n",
      "Test Accuracy: 74.34%\n"
     ]
    }
   ],
   "source": [
    "aug_train_loader = augdata()\n",
    "aug_train_losses = []\n",
    "for epoch in range(2):\n",
    "    train_loss = train(model, criterion, optimizer, aug_train_loader)\n",
    "    test_accuracy = test(model, criterion, test_loader)\n",
    "    train_losses.append(train_loss)\n",
    "    print(f\"Epoch {epoch+1}/{5}, Train Loss: {train_loss:.4f}\")\n",
    "    print(f\"Test Accuracy: {test_accuracy:.2f}%\")"
   ]
  },
  {
   "cell_type": "code",
   "execution_count": 32,
   "metadata": {},
   "outputs": [
    {
     "name": "stdout",
     "output_type": "stream",
     "text": [
      "train_accuracy:  74.6934586506779\n",
      "Epoch 1/3, Train Loss: 0.6435\n",
      "Test Accuracy: 73.68%\n",
      "train_accuracy:  75.12558742505267\n",
      "Epoch 2/3, Train Loss: 0.6369\n",
      "Test Accuracy: 74.47%\n",
      "train_accuracy:  75.23902122832604\n",
      "Epoch 3/3, Train Loss: 0.6286\n",
      "Test Accuracy: 75.17%\n"
     ]
    }
   ],
   "source": [
    "aug_train_loader = augdata()\n",
    "aug_train_losses = []\n",
    "for epoch in range(3):\n",
    "    train_loss = train(model, criterion, optimizer, aug_train_loader)\n",
    "    test_accuracy = test(model, criterion, test_loader)\n",
    "    train_losses.append(train_loss)\n",
    "    print(f\"Epoch {epoch+1}/{3}, Train Loss: {train_loss:.4f}\")\n",
    "    print(f\"Test Accuracy: {test_accuracy:.2f}%\")"
   ]
  },
  {
   "cell_type": "code",
   "execution_count": 33,
   "metadata": {},
   "outputs": [],
   "source": [
    "# 저장\n",
    "# 75.17%\n",
    "torch.save(model.state_dict(), './LeNetmodel.pth')"
   ]
  },
  {
   "cell_type": "code",
   "execution_count": 34,
   "metadata": {},
   "outputs": [
    {
     "name": "stdout",
     "output_type": "stream",
     "text": [
      "train_accuracy:  75.40106951871658\n",
      "Epoch 1/3, Train Loss: 0.6216\n",
      "Test Accuracy: 74.34%\n"
     ]
    }
   ],
   "source": [
    "#aug_train_loader = augdata()\n",
    "#aug_train_losses = []\n",
    "for epoch in range(1):\n",
    "    train_loss = train(model, criterion, optimizer, aug_train_loader)\n",
    "    test_accuracy = test(model, criterion, test_loader)\n",
    "    train_losses.append(train_loss)\n",
    "    print(f\"Epoch {epoch+1}/{3}, Train Loss: {train_loss:.4f}\")\n",
    "    print(f\"Test Accuracy: {test_accuracy:.2f}%\")"
   ]
  },
  {
   "cell_type": "code",
   "execution_count": 23,
   "metadata": {},
   "outputs": [
    {
     "data": {
      "text/plain": [
       "<All keys matched successfully>"
      ]
     },
     "execution_count": 23,
     "metadata": {},
     "output_type": "execute_result"
    }
   ],
   "source": [
    "CNNmodel = CNN()  # 또는 해당 모델의 인스턴스를 생성\n",
    "CNNmodel.load_state_dict(torch.load('Lenetmodel.pth'))"
   ]
  },
  {
   "cell_type": "code",
   "execution_count": 36,
   "metadata": {},
   "outputs": [
    {
     "name": "stdout",
     "output_type": "stream",
     "text": [
      "train_accuracy:  75.40106951871658\n",
      "Epoch 1/3, Train Loss: 0.6705\n",
      "Test Accuracy: 75.17%\n",
      "train_accuracy:  75.38486468967753\n",
      "Epoch 2/3, Train Loss: 0.6692\n",
      "Test Accuracy: 75.17%\n"
     ]
    }
   ],
   "source": [
    "aug_train_loader = augdata()\n",
    "aug_train_losses = []\n",
    "for epoch in range(2):\n",
    "    train_loss = train(CNNmodel, criterion, optimizer, aug_train_loader)\n",
    "    test_accuracy = test(CNNmodel, criterion, test_loader)\n",
    "    train_losses.append(train_loss)\n",
    "    print(f\"Epoch {epoch+1}/{3}, Train Loss: {train_loss:.4f}\")\n",
    "    print(f\"Test Accuracy: {test_accuracy:.2f}%\")"
   ]
  },
  {
   "cell_type": "code",
   "execution_count": 37,
   "metadata": {},
   "outputs": [
    {
     "name": "stdout",
     "output_type": "stream",
     "text": [
      "train_accuracy:  75.40647112839626\n",
      "Epoch 1/2, Train Loss: 0.6684\n",
      "Test Accuracy: 75.17%\n",
      "train_accuracy:  75.40647112839626\n",
      "Epoch 2/2, Train Loss: 0.6716\n",
      "Test Accuracy: 75.17%\n"
     ]
    }
   ],
   "source": [
    "aug_train_loader = augdata()\n",
    "aug_train_losses = []\n",
    "for epoch in range(2):\n",
    "    train_loss = train(CNNmodel, criterion, optimizer, aug_train_loader)\n",
    "    test_accuracy = test(CNNmodel, criterion, test_loader)\n",
    "    train_losses.append(train_loss)\n",
    "    print(f\"Epoch {epoch+1}/{2}, Train Loss: {train_loss:.4f}\")\n",
    "    print(f\"Test Accuracy: {test_accuracy:.2f}%\")"
   ]
  },
  {
   "attachments": {},
   "cell_type": "markdown",
   "metadata": {},
   "source": [
    "---"
   ]
  },
  {
   "attachments": {},
   "cell_type": "markdown",
   "metadata": {},
   "source": [
    "이미지 한개 결과 출력하기"
   ]
  },
  {
   "cell_type": "code",
   "execution_count": null,
   "metadata": {},
   "outputs": [],
   "source": [
    "import random\n",
    "\n",
    "# train은 훈련용이라 test에서 선택하는게 더 의미있을 것 같아서 test에서 데이터 임의 선택.\n",
    "random_index = random.randint(0, len(train_loader.dataset) - 1)\n",
    "data, label = train_loader.dataset[random_index]\n",
    "\n",
    "# 1개 데이터를 치원 확장해서 모델에 전달\n",
    "data = data.unsqueeze(0).to(device)\n",
    "output = model(data)\n",
    "\n",
    "_, predicted = torch.max(output.data, 1)\n",
    "\n",
    "print('예측 클래스:', predicted.item())\n",
    "print('실제 클래스:', label)\n"
   ]
  },
  {
   "attachments": {},
   "cell_type": "markdown",
   "metadata": {},
   "source": [
    "---"
   ]
  },
  {
   "attachments": {},
   "cell_type": "markdown",
   "metadata": {},
   "source": [
    "LeNet, DenseNet, ResNet의 성능 비교 시각화"
   ]
  },
  {
   "cell_type": "code",
   "execution_count": 58,
   "metadata": {},
   "outputs": [
    {
     "data": {
      "image/png": "[encoded data removed]",
      "text/plain": [
       "<Figure size 640x480 with 1 Axes>"
      ]
     },
     "metadata": {},
     "output_type": "display_data"
    }
   ],
   "source": [
    "import matplotlib.pyplot as plt\n",
    "%matplotlib inline\n",
    "\n",
    "plt.rc('font', family='Malgun Gothic')\n",
    "values = [77.17, 75.17, 73.95]\n",
    "labels = ['DenseNet', 'LeNet', 'ResNet']\n",
    "\n",
    "plt.bar(labels, values, color=['sandybrown', 'seagreen', 'steelblue'])\n",
    "#plt.yticks(range(0, 101, 10))\n",
    "plt.ylim([0, 100])\n",
    "plt.ylabel('Accuracy(%)')\n",
    "plt.title('모델 성능 비교')\n",
    "\n",
    "for i, v in enumerate(values):\n",
    "    plt.text(i, v, f'{v:.2f}%', ha='center', va='bottom')\n",
    "\n",
    "plt.show()"
   ]
  },
  {
   "attachments": {},
   "cell_type": "markdown",
   "metadata": {},
   "source": []
  }
 ],
 "metadata": {
  "kernelspec": {
   "display_name": "ds_study",
   "language": "python",
   "name": "python3"
  },
  "language_info": {
   "codemirror_mode": {
    "name": "ipython",
    "version": 3
   },
   "file_extension": ".py",
   "mimetype": "text/x-python",
   "name": "python",
   "nbconvert_exporter": "python",
   "pygments_lexer": "ipython3",
   "version": "3.8.16"
  },
  "orig_nbformat": 4
 },
 "nbformat": 4,
 "nbformat_minor": 2
}
