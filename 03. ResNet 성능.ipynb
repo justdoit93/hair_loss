{
 "cells": [
  {
   "cell_type": "code",
   "execution_count": 1,
   "metadata": {},
   "outputs": [],
   "source": [
    "import pandas as pd\n",
    "import tensorflow as tf\n",
    "import keras\n",
    "from keras.applications import ResNet50, ResNet101, ResNet152\n",
    "from tensorflow.keras.utils import to_categorical\n",
    "from torchvision import transforms\n",
    "from PIL import Image\n",
    "import torch\n",
    "\n",
    "def print_model_acc(target_col):\n",
    "    image_tensors = None\n",
    "    image_tensors2 = None\n",
    "\n",
    "    # 데이터프레임 가져오기\n",
    "    train_df = pd.read_csv('./Data/train_df.csv', index_col=0)\n",
    "    train_df = train_df[train_df['image_path'].str.contains(target_col)]\n",
    "    train_df = train_df.reset_index(drop=True)\n",
    "\n",
    "    test_df = pd.read_csv('./Data/test_df.csv', index_col=0)\n",
    "    test_df = test_df[test_df['image_path'].str.contains(target_col)]\n",
    "    test_df = test_df.reset_index(drop=True)\n",
    "\n",
    "    # 이미지 파일 텐서로 변환 - train 데이터\n",
    "    transform = transforms.Compose([\n",
    "        transforms.Resize((128, 128)),  # 이미지 크기 조정\n",
    "        transforms.ToTensor(),  \n",
    "        transforms.Normalize(mean=[0.25, 0.25, 0.25], std=[0.1, 0.1, 0.1]) # 이미지 정규화\n",
    "    ])\n",
    "\n",
    "    tensor_list = []\n",
    "    for image_path in train_df['image_path']:\n",
    "        image = Image.open(image_path)\n",
    "        tensor = transform(image)\n",
    "        tensor = tensor.transpose(0,2) # shape 순서 변경(추후 텐서플로로 변경하기위해)\n",
    "        tensor_list.append(tensor)\n",
    "\n",
    "    image_tensors = torch.stack(tensor_list) #train데이터\n",
    "    print('이미지 파일 텐서로 변환 - train 데이터 완료')\n",
    "    \n",
    "    # 이미지 파일 텐서로 변환 - test 데이터\n",
    "    tensor_list2 = []\n",
    "    for image_path in test_df['image_path']:\n",
    "        image2 = Image.open(image_path)\n",
    "        tensor2 = transform(image2)\n",
    "        tensor2 = tensor2.transpose(0,2)\n",
    "        tensor_list2.append(tensor2)\n",
    "\n",
    "    image_tensors2 = torch.stack(tensor_list2) #test데이터\n",
    "\n",
    "    # tensorflow로 변환\n",
    "    X_train = tf.convert_to_tensor(image_tensors.numpy())\n",
    "    y_train = train_df[target_col].values\n",
    "\n",
    "    X_test = tf.convert_to_tensor(image_tensors2.numpy())\n",
    "    y_test = test_df[target_col].values\n",
    "    print('이미지 파일 텐서로 변환 - test 데이터 완료')\n",
    "\n",
    "    # 증상 진행 단계 원핫인코딩\n",
    "    y_train_oh = to_categorical(y_train)\n",
    "    y_test_oh = to_categorical(y_test)\n",
    "\n",
    "    model = ResNet50(weights=None, include_top=True, input_shape=(128, 128, 3), pooling=max, classes=4)\n",
    "\n",
    "    sgd = keras.optimizers.SGD(learning_rate=0.01, decay= 1e-6 ,momentum=0.9, nesterov=True) \n",
    "\n",
    "    model.compile(loss='categorical_crossentropy', metrics=['accuracy'], optimizer= sgd) \n",
    "    model.fit(X_train, y_train_oh, batch_size=16, epochs=1)\n",
    "\n",
    "    test_loss, test_acc = model.evaluate(X_test, y_test_oh, verbose=2)\n",
    "    print(target_col +' test_loss: ' ,test_loss)\n",
    "    print(target_col +' test_acc: ' ,test_acc)"
   ]
  },
  {
   "cell_type": "code",
   "execution_count": 10,
   "metadata": {},
   "outputs": [
    {
     "name": "stdout",
     "output_type": "stream",
     "text": [
      "이미지 파일 텐서로 변환 - train 데이터 완료\n",
      "이미지 파일 텐서로 변환 - test 데이터 완료\n",
      "290/290 [==============================] - 8421s 29s/step - loss: 1.1024 - accuracy: 0.7262\n",
      "166/166 - 582s - loss: 0.6952 - accuracy: 0.7352 - 582s/epoch - 4s/step\n",
      "탈모 test_loss:  0.6951689720153809\n",
      "탈모 test_acc:  0.7352496385574341\n"
     ]
    }
   ],
   "source": [
    "print_model_acc('탈모')"
   ]
  },
  {
   "cell_type": "code",
   "execution_count": 2,
   "metadata": {},
   "outputs": [
    {
     "name": "stdout",
     "output_type": "stream",
     "text": [
      "이미지 파일 텐서로 변환 - train 데이터 완료\n",
      "이미지 파일 텐서로 변환 - test 데이터 완료\n",
      "1158/1158 [==============================] - 8929s 8s/step - loss: 0.9382 - accuracy: 0.7133\n",
      "166/166 - 585s - loss: 0.6834 - accuracy: 0.7396 - 585s/epoch - 4s/step\n",
      "탈모 test_loss:  0.683415949344635\n",
      "탈모 test_acc:  0.7395991086959839\n"
     ]
    }
   ],
   "source": [
    "print_model_acc('탈모')"
   ]
  }
 ],
 "metadata": {
  "kernelspec": {
   "display_name": "Python 3 (ipykernel)",
   "language": "python",
   "name": "python3"
  },
  "language_info": {
   "codemirror_mode": {
    "name": "ipython",
    "version": 3
   },
   "file_extension": ".py",
   "mimetype": "text/x-python",
   "name": "python",
   "nbconvert_exporter": "python",
   "pygments_lexer": "ipython3",
   "version": "3.8.16"
  },
  "vscode": {
   "interpreter": {
    "hash": "1c82d1a80ee0d4ff8d4114458f1a4bf9de876e6d83c0940c915b29fd45e0fe5f"
   }
  }
 },
 "nbformat": 4,
 "nbformat_minor": 2
}
